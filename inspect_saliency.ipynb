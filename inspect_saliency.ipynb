{
 "cells": [
  {
   "cell_type": "code",
   "execution_count": 1,
   "metadata": {},
   "outputs": [
    {
     "name": "stderr",
     "output_type": "stream",
     "text": [
      "2024-08-27 12:48:33.584355: E external/local_xla/xla/stream_executor/cuda/cuda_dnn.cc:9261] Unable to register cuDNN factory: Attempting to register factory for plugin cuDNN when one has already been registered\n",
      "2024-08-27 12:48:33.584401: E external/local_xla/xla/stream_executor/cuda/cuda_fft.cc:607] Unable to register cuFFT factory: Attempting to register factory for plugin cuFFT when one has already been registered\n",
      "2024-08-27 12:48:33.585144: E external/local_xla/xla/stream_executor/cuda/cuda_blas.cc:1515] Unable to register cuBLAS factory: Attempting to register factory for plugin cuBLAS when one has already been registered\n"
     ]
    }
   ],
   "source": [
    "from molgraph.chemistry import vis\n",
    "import pickle\n",
    "import pandas as pd\n",
    "import ipywidgets as widgets\n",
    "from IPython.display import display\n",
    "from PIL import Image, ImageDraw, ImageFont\n",
    "from io import BytesIO"
   ]
  },
  {
   "cell_type": "code",
   "execution_count": 2,
   "metadata": {},
   "outputs": [],
   "source": [
    "saliency_maps = pickle.load(\n",
    "    open(\"predictions/Saliency_map_test_saliency_maps.pkl\", \"rb\")\n",
    ")\n",
    "names = pd.read_csv(\n",
    "    \"/mnt/c/Users/robbe/Work/Waters_GNN_SmalMol/data/CCS_consolidated_SMILES.csv\"\n",
    ")\n",
    "x = pd.read_csv(\"/mnt/c/Users/robbe/Work/Waters_GNN_SmalMol/predictions/test_df.csv\")"
   ]
  },
  {
   "cell_type": "code",
   "execution_count": 3,
   "metadata": {},
   "outputs": [],
   "source": [
    "data = pd.merge(x, names, on=\"SMILES\", how=\"left\")\n",
    "data = data.drop_duplicates(subset=\"SMILES\")"
   ]
  },
  {
   "cell_type": "code",
   "execution_count": 4,
   "metadata": {},
   "outputs": [],
   "source": [
    "smiles = data[\"SMILES\"].values\n",
    "names = data[\"Chemical Name\"].values"
   ]
  },
  {
   "cell_type": "code",
   "execution_count": 5,
   "metadata": {},
   "outputs": [],
   "source": [
    "def visualize_saliency(i):\n",
    "    pic = vis.visualize_maps(maps=saliency_maps[i], molecule=smiles[i], padding=0.07)\n",
    "    if pic is not None:\n",
    "\n",
    "        draw = ImageDraw.Draw(pic)\n",
    "\n",
    "        text = f\"{names[i]}\"\n",
    "        # Text should go center above the molecule\n",
    "        position = (pic.width // 2 - len(text) * 5, 0)\n",
    "\n",
    "    draw.text(position, text, font=ImageFont.load_default(), fill=\"black\", fontsize=20)\n",
    "\n",
    "    pic.show()"
   ]
  },
  {
   "cell_type": "code",
   "execution_count": 6,
   "metadata": {},
   "outputs": [
    {
     "data": {
      "application/vnd.jupyter.widget-view+json": {
       "model_id": "d82c3adc48fc4c118625474fe3ff0d24",
       "version_major": 2,
       "version_minor": 0
      },
      "text/plain": [
       "interactive(children=(IntSlider(value=0, description='Index', max=672), Output()), _dom_classes=('widget-inter…"
      ]
     },
     "execution_count": 6,
     "metadata": {},
     "output_type": "execute_result"
    }
   ],
   "source": [
    "x_slider = widgets.IntSlider(\n",
    "    value=0, min=0, max=len(x) - 1, step=1, description=\"Index\"\n",
    ")\n",
    "\n",
    "widgets.interactive(\n",
    "    visualize_saliency,\n",
    "    i=x_slider,\n",
    ")"
   ]
  }
 ],
 "metadata": {
  "kernelspec": {
   "display_name": "Waters",
   "language": "python",
   "name": "python3"
  },
  "language_info": {
   "codemirror_mode": {
    "name": "ipython",
    "version": 3
   },
   "file_extension": ".py",
   "mimetype": "text/x-python",
   "name": "python",
   "nbconvert_exporter": "python",
   "pygments_lexer": "ipython3",
   "version": "3.10.9"
  }
 },
 "nbformat": 4,
 "nbformat_minor": 2
}
